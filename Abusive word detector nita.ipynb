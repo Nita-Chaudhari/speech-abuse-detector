{
 "cells": [
  {
   "cell_type": "code",
   "execution_count": null,
   "metadata": {},
   "outputs": [],
   "source": [
    "import smtplib\n",
    "import re\n",
    "\n",
    "# List of abusive words\n",
    "abusive_words = ['Nonsense', 'Silly', 'Stupid']  # Add your abusive words here\n",
    "\n",
    "# Function to detect abusive words\n",
    "def detect_abusive_words(text):\n",
    "    pattern = re.compile(r'\\b(' + '|'.join(abusive_words) + r')\\b', re.IGNORECASE)\n",
    "    return pattern.findall(text)\n",
    "\n",
    "# Function to send email\n",
    "def send_email(to_email, subject, message):\n",
    "    from_email = 'nitachaudhari388@gmail.com'\n",
    "    password = 'Shreesha@31'  # Use an App Password if 2FA is enabled\n",
    "\n",
    "    with smtplib.SMTP('smtp.gmail.com', 587) as server:\n",
    "        server.starttls()\n",
    "        server.login(from_email, password)\n",
    "        email_message = f'Subject: {subject}\\n\\n{message}'\n",
    "        server.sendmail(from_email, to_email, email_message)\n",
    "\n",
    "# Main function\n",
    "def main():\n",
    "    user_input = input(\"Enter the text to check for abusive words: \")\n",
    "    found_words = detect_abusive_words(user_input)\n",
    "\n",
    "    if found_words:\n",
    "        print(\"Abusive words detected:\", found_words)\n",
    "        send_email('owner_email@example.com', 'Abusive Word Alert', f'Abusive words found: {found_words}')\n",
    "        print(\"Email sent to the owner.\")\n",
    "    else:\n",
    "        print(\"No abusive words detected.\")\n",
    "\n",
    "if __name__ == \"__main__\":\n",
    "    main()"
   ]
  }
 ],
 "metadata": {
  "kernelspec": {
   "display_name": "base",
   "language": "python",
   "name": "python3"
  },
  "language_info": {
   "name": "python",
   "version": "3.11.5"
  }
 },
 "nbformat": 4,
 "nbformat_minor": 2
}
